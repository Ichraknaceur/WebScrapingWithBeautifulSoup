{
  "nbformat": 4,
  "nbformat_minor": 0,
  "metadata": {
    "colab": {
      "name": "WebScraping.ipynb",
      "provenance": []
    },
    "kernelspec": {
      "name": "python3",
      "display_name": "Python 3"
    },
    "language_info": {
      "name": "python"
    }
  },
  "cells": [
    {
      "cell_type": "markdown",
      "source": [
        "# web scraping with Python"
      ],
      "metadata": {
        "id": "5o0CmvovRMpE"
      }
    },
    {
      "cell_type": "markdown",
      "source": [
        "write explanation here \n"
      ],
      "metadata": {
        "id": "BY81zjvISpcb"
      }
    },
    {
      "cell_type": "markdown",
      "source": [
        "**Downloading a web page with Python**"
      ],
      "metadata": {
        "id": "OXfoIwYOVp_k"
      }
    },
    {
      "cell_type": "markdown",
      "source": [
        "- requests library allows us to make web requests\n",
        "-  we pass the URL we defined to the requests.get function, which will visit the web page that the URL points to and fetch the HTML source code.\n",
        "- we print the first 1000 characters of the response "
      ],
      "metadata": {
        "id": "aUeZH5ghWDhz"
      }
    },
    {
      "cell_type": "code",
      "source": [
        "import requests\n",
        "url = \"https://bbc.com/news\"\n",
        "response = requests.get(url)\n",
        "print(response.text[:1000])"
      ],
      "metadata": {
        "colab": {
          "base_uri": "https://localhost:8080/"
        },
        "id": "x8hKVFnmVuJr",
        "outputId": "2598ba45-0831-4b70-a299-2e5b1616c6f1"
      },
      "execution_count": 5,
      "outputs": [
        {
          "output_type": "stream",
          "name": "stdout",
          "text": [
            "<!DOCTYPE html>\n",
            "<html lang=\"en-GB\" class=\"b-pw-1280 no-touch\" id=\"responsive-news\">\n",
            "<head>\n",
            "    <meta charset=\"utf-8\">\n",
            "    <meta name=\"viewport\" content=\"width=device-width, initial-scale=1, user-scalable=1\">\n",
            "    <meta http-equiv=\"X-UA-Compatible\" content=\"IE=edge,chrome=1\">\n",
            "    <meta name=\"google-site-verification\" content=\"Tk6bx1127nACXoqt94L4-D-Of1fdr5gxrZ7u2Vtj9YI\">\n",
            "    <link href=\"//static.bbc.co.uk\" rel=\"preconnect\" crossorigin>\n",
            "    <link href=\"//m.files.bbci.co.uk\" rel=\"preconnect\" crossorigin>\n",
            "    <link href=\"//nav.files.bbci.co.uk\" rel=\"preconnect\" crossorigin>\n",
            "    <link href=\"//ichef.bbci.co.uk\" rel=\"preconnect\" crossorigin>\n",
            "    <link rel=\"dns-prefetch\" href=\"//mybbc.files.bbci.co.uk\">\n",
            "    <link rel=\"dns-prefetch\" href=\"//ssl.bbc.co.uk/\">\n",
            "    <link rel=\"dns-prefetch\" href=\"//sa.bbc.co.uk/\">\n",
            "    <link rel=\"dns-prefetch\" href=\"//ichef.bbci.co.uk\">\n",
            "\n",
            "\n",
            "    <link rel=\"preload\" as=\"style\" href=\"//m.files.bbci.co.uk/modules/bbc-morph-news-page-styles/2.4.1/enhanced.css\">\n",
            "<script type=\n"
          ]
        }
      ]
    },
    {
      "cell_type": "markdown",
      "source": [
        "**Using BeauifulSoup to extrat URLs**"
      ],
      "metadata": {
        "id": "vM-wmaSuQnTJ"
      }
    },
    {
      "cell_type": "markdown",
      "source": [
        "- BeautifulSoup is a powerful and simple-to-use HTML parsing library \n",
        "- we want to find all the news articles on the BBC News homepage, and get their URLs.\n",
        "- we find all the a elements in our HTML and extract them to a list. when we  inspect the homepge , we noted that the a element in HTML was used to define links, with the href attribute being used to specify where the link should go to. so we  find  all of the HTML a elements."
      ],
      "metadata": {
        "id": "YVmngd0IouXB"
      }
    },
    {
      "cell_type": "code",
      "execution_count": 1,
      "metadata": {
        "id": "Aj9o78x4QFfv"
      },
      "outputs": [],
      "source": [
        "import requests\n",
        "from bs4 import BeautifulSoup\n"
      ]
    },
    {
      "cell_type": "code",
      "source": [
        "url = \"https://bbc.com/news\"\n",
        "response = requests.get(url)\n",
        "html = response.text"
      ],
      "metadata": {
        "id": "plwWh0EQQP1K"
      },
      "execution_count": 3,
      "outputs": []
    },
    {
      "cell_type": "code",
      "source": [
        "soup = BeautifulSoup(html, \"html.parser\")\n",
        "links = soup.findAll(\"a\")\n",
        "for link in links:\n",
        "    print(link.get(\"href\"))"
      ],
      "metadata": {
        "colab": {
          "base_uri": "https://localhost:8080/"
        },
        "id": "oKCVRPbRQbcB",
        "outputId": "8b5b2d96-c957-4eaa-ac44-71c38d2bc5e9"
      },
      "execution_count": 4,
      "outputs": [
        {
          "output_type": "stream",
          "name": "stdout",
          "text": [
            "https://www.bbc.co.uk\n",
            "#skip-to-content-link-target\n",
            "https://www.bbc.co.uk/accessibility/\n",
            "https://account.bbc.com/account\n",
            "#\n",
            "https://www.bbc.co.uk\n",
            "https://www.bbc.co.uk/news\n",
            "https://www.bbc.co.uk/sport\n",
            "https://www.bbc.co.uk/weather\n",
            "https://www.bbc.co.uk/iplayer\n",
            "https://www.bbc.co.uk/sounds\n",
            "https://www.bbc.co.uk/cbbc\n",
            "https://www.bbc.co.uk/cbeebies\n",
            "https://www.bbc.co.uk/food\n",
            "https://www.bbc.co.uk/bitesize\n",
            "https://www.bbc.co.uk/arts\n",
            "https://www.bbc.co.uk/taster\n",
            "https://www.bbc.co.uk/news/localnews\n",
            "https://www.bbc.co.uk/bbcthree\n",
            "#orb-footer\n",
            "https://search.bbc.co.uk/search?scope=all\n",
            "/news\n",
            "#core-navigation\n",
            "/news\n",
            "/news/coronavirus\n",
            "/news/science-environment-56837908\n",
            "/news/av/10462520\n",
            "/news/world\n",
            "/news/world/us_and_canada\n",
            "/news/uk\n",
            "/news/business\n",
            "/news/technology\n",
            "/news/science_and_environment\n",
            "/news/stories\n",
            "/news/entertainment_and_arts\n",
            "/news/health\n",
            "/news/in_pictures\n",
            "/news/reality_check\n",
            "/news/world_radio_and_tv\n",
            "/news/newsbeat\n",
            "/news/the_reporters\n",
            "/news\n",
            "/news/coronavirus\n",
            "/news/coronavirus\n",
            "/news/have_your_say\n",
            "/news/science-environment-56837908\n",
            "/news/av/10462520\n",
            "/news/world\n",
            "/news/world\n",
            "/news/world/africa\n",
            "/news/world/asia\n",
            "/news/world/australia\n",
            "/news/world/europe\n",
            "/news/world/latin_america\n",
            "/news/world/middle_east\n",
            "/news/world/us_and_canada\n",
            "/news/uk\n",
            "/news/uk\n",
            "/news/england\n",
            "/news/northern_ireland\n",
            "/news/scotland\n",
            "/news/wales\n",
            "/news/world/europe/isle_of_man\n",
            "/news/world/europe/guernsey\n",
            "/news/world/europe/jersey\n",
            "/news/localnews\n",
            "/news/business\n",
            "/news/business\n",
            "/news/business/market-data\n",
            "/news/business-45489065\n",
            "/news/business-15521824\n",
            "/news/business/companies\n",
            "/news/business-22434141\n",
            "/news/business-11428889\n",
            "/news/business/economy\n",
            "/news/business-33712313\n",
            "/news/business/global_car_industry\n",
            "/news/business/business_of_sport\n",
            "/news/technology\n",
            "/news/science_and_environment\n",
            "/news/stories\n",
            "/news/entertainment_and_arts\n",
            "/news/health\n",
            "/news/health\n",
            "/news/coronavirus\n",
            "/news/in_pictures\n",
            "/news/reality_check\n",
            "/news/world_radio_and_tv\n",
            "/news/newsbeat\n",
            "/news/the_reporters\n",
            "\n",
            "#nw-c-top-stories__title\n",
            "#nw-c-most-read-heading__title\n",
            "/news/world-australia-59991762\n",
            "/news/world/australia\n",
            "/news/world-australia-59991762\n",
            "/news/world/australia\n",
            "/news/world-australia-59991291\n",
            "/news/world-australia-59890943\n",
            "/news/uk-59989886\n",
            "/news/uk\n",
            "/news/world-us-canada-59989476\n",
            "/news/world/us_and_canada\n",
            "/news/world-us-canada-59990200\n",
            "/news/world/us_and_canada\n",
            "/news/world-us-canada-59989496\n",
            "/news/world/us_and_canada\n",
            "/news/world-us-canada-59960949\n",
            "/news/world/us_and_canada\n",
            "/news/live/world-australia-59964905\n",
            "/news/world/australia\n",
            "/news/world-us-canada-59989124\n",
            "/news/world/us_and_canada\n",
            "/news/uk-politics-59989946\n",
            "/news/politics\n",
            "/news/uk-politics-59989946/#comp-comments-button\n",
            "/news/uk-59991749\n",
            "/news/uk\n",
            "/news/world-europe-59992531\n",
            "/news/world/europe\n",
            "/news/uk-59991749\n",
            "/news/uk\n",
            "/news/world-europe-59992531\n",
            "/news/world/europe\n",
            "/news/entertainment-arts-59986543\n",
            "/news/entertainment_and_arts\n",
            "/news/world-europe-59992918\n",
            "/news/world/europe\n",
            "/news/world-europe-59988414\n",
            "/news/world/europe\n",
            "/news/uk-59989886\n",
            "/news/world-australia-59994276\n",
            "/news/world-us-canada-59989496\n",
            "/news/uk-50446997\n",
            "/news/uk-50448669\n",
            "https://www.bbc.com/news/topics/cxqvep8kqext/long-reads\n",
            "https://www.bbc.com/news/topics/cxqvep8kqext/long-reads\n",
            "/sport/football/59952796\n",
            "/sport/tennis/59881229\n",
            "/news/health-59895258\n",
            "/news/uk-59879470\n",
            "/news/uk-59761346\n",
            "/news/world-australia-59991762\n",
            "/news/world-us-canada-59990200\n",
            "/news/world-africa-59972545\n",
            "/news/world-europe-59988414\n",
            "/news/world-us-canada-59960949\n",
            "/news/world-us-canada-59989476\n",
            "/news/world-us-canada-59979408\n",
            "/news/uk-politics-59989946\n",
            "/news/entertainment-arts-59986543\n",
            "/news/world-europe-59992531\n",
            "https://www.bbc.com/future/article/20220106-is-the-uk-poised-to-return-to-space-launches\n",
            "http://www.bbc.com/future\n",
            "https://www.bbc.com/worklife/article/20220113-why-a-wide-scale-return-to-the-office-is-a-myth\n",
            "http://www.bbc.com/worklife\n",
            "https://www.bbc.com/travel/article/20220113-dwarka-indias-submerged-ancient-city\n",
            "http://www.bbc.com/travel\n",
            "https://www.bbc.com/culture/article/20220113-the-sci-fi-genre-offering-radical-hope-for-living-better\n",
            "http://www.bbc.com/culture\n",
            "https://www.bbc.com/future/article/20220111-why-nasa-is-exploring-the-deepest-oceans-on-earth\n",
            "http://www.bbc.com/future\n",
            "https://www.bbc.com/worklife/article/20220107-vard-av-barn-the-swedish-parents-paid-to-care-for-sick-kids\n",
            "http://www.bbc.com/worklife\n",
            "https://www.bbc.com/travel/article/20220112-nowa-huta-polands-utopian-socialist-city\n",
            "http://www.bbc.com/travel\n",
            "http://www.bbc.co.uk/sport/0/\n",
            "http://www.bbc.co.uk/sport/0/\n",
            "/sport/live/cricket/57164870\n",
            "/sport/cricket\n",
            "/sport/live/football/59992150\n",
            "/sport/football\n",
            "/sport/basketball/59985184\n",
            "/sport/basketball\n",
            "/sport/football/59889970\n",
            "/sport/football\n",
            "/sport/football/59889970/#story-footer\n",
            "/sport/football/59889957\n",
            "/sport/football\n",
            "/sport/basketball/59987418\n",
            "/sport/basketball\n",
            "/sport/tennis/59992967\n",
            "/sport/tennis\n",
            "https://twitter.com/BBCWorld\n",
            "https://www.facebook.com/bbcnews\n",
            "https://www.instagram.com/bbcnews\n",
            "http://pages.email.bbc.com/subscribe\n",
            "http://www.bbc.com/news/10628994\n",
            "mailto:haveyoursay@bbc.co.uk\n",
            "sms:+447624800100\n",
            "https://twitter.com/BBC_HaveYourSay\n",
            "http://www.bbc.co.uk/news/help-41670342\n",
            "/news\n",
            "/news/coronavirus\n",
            "/news/coronavirus\n",
            "/news/have_your_say\n",
            "/news/science-environment-56837908\n",
            "/news/av/10462520\n",
            "/news/world\n",
            "/news/world\n",
            "/news/world/africa\n",
            "/news/world/asia\n",
            "/news/world/australia\n",
            "/news/world/europe\n",
            "/news/world/latin_america\n",
            "/news/world/middle_east\n",
            "/news/world/us_and_canada\n",
            "/news/uk\n",
            "/news/uk\n",
            "/news/england\n",
            "/news/northern_ireland\n",
            "/news/scotland\n",
            "/news/wales\n",
            "/news/world/europe/isle_of_man\n",
            "/news/world/europe/guernsey\n",
            "/news/world/europe/jersey\n",
            "/news/localnews\n",
            "/news/business\n",
            "/news/business\n",
            "/news/business/market-data\n",
            "/news/business-45489065\n",
            "/news/business-15521824\n",
            "/news/business/companies\n",
            "/news/business-22434141\n",
            "/news/business-11428889\n",
            "/news/business/economy\n",
            "/news/business-33712313\n",
            "/news/business/global_car_industry\n",
            "/news/business/business_of_sport\n",
            "/news/technology\n",
            "/news/science_and_environment\n",
            "/news/stories\n",
            "/news/entertainment_and_arts\n",
            "/news/health\n",
            "/news/health\n",
            "/news/coronavirus\n",
            "/news/in_pictures\n",
            "/news/reality_check\n",
            "/news/world_radio_and_tv\n",
            "/news/newsbeat\n",
            "/news/the_reporters\n",
            "https://www.bbc.co.uk\n",
            "https://www.bbc.co.uk/news\n",
            "https://www.bbc.co.uk/sport\n",
            "https://www.bbc.co.uk/weather\n",
            "https://www.bbc.co.uk/iplayer\n",
            "https://www.bbc.co.uk/sounds\n",
            "https://www.bbc.co.uk/cbbc\n",
            "https://www.bbc.co.uk/cbeebies\n",
            "https://www.bbc.co.uk/food\n",
            "https://www.bbc.co.uk/bitesize\n",
            "https://www.bbc.co.uk/arts\n",
            "https://www.bbc.co.uk/taster\n",
            "https://www.bbc.co.uk/news/localnews\n",
            "https://www.bbc.co.uk/bbcthree\n",
            "https://www.bbc.co.uk/usingthebbc/terms/\n",
            "https://www.bbc.co.uk/aboutthebbc\n",
            "https://www.bbc.co.uk/usingthebbc/privacy/\n",
            "https://www.bbc.co.uk/usingthebbc/cookies/\n",
            "https://www.bbc.co.uk/accessibility/\n",
            "https://www.bbc.co.uk/guidance\n",
            "https://www.bbc.co.uk/contact\n",
            "https://www.bbc.co.uk/bbcnewsletter\n",
            "https://www.bbc.co.uk/editorialguidelines/guidance/feeds-and-links\n"
          ]
        }
      ]
    },
    {
      "cell_type": "markdown",
      "source": [
        "- we still loop through all of the links that BeautifulSoup found for us, but now we extract the href that matches the condition (start with \"/news\")"
      ],
      "metadata": {
        "id": "ZIoGc701rmMq"
      }
    },
    {
      "cell_type": "code",
      "source": [
        "for link in links:\n",
        "    href = link.get(\"href\")\n",
        "    if href.startswith(\"/news\") and href[-1].isdigit():\n",
        "        print(href)"
      ],
      "metadata": {
        "colab": {
          "base_uri": "https://localhost:8080/"
        },
        "id": "qAakoHMCrnGR",
        "outputId": "46560f3e-013f-43b7-ba90-a2338238376e"
      },
      "execution_count": 6,
      "outputs": [
        {
          "output_type": "stream",
          "name": "stdout",
          "text": [
            "/news/science-environment-56837908\n",
            "/news/av/10462520\n",
            "/news/science-environment-56837908\n",
            "/news/av/10462520\n",
            "/news/business-45489065\n",
            "/news/business-15521824\n",
            "/news/business-22434141\n",
            "/news/business-11428889\n",
            "/news/business-33712313\n",
            "/news/world-australia-59991762\n",
            "/news/world-australia-59991762\n",
            "/news/world-australia-59991291\n",
            "/news/world-australia-59890943\n",
            "/news/uk-59989886\n",
            "/news/world-us-canada-59989476\n",
            "/news/world-us-canada-59990200\n",
            "/news/world-us-canada-59989496\n",
            "/news/world-us-canada-59960949\n",
            "/news/live/world-australia-59964905\n",
            "/news/world-us-canada-59989124\n",
            "/news/uk-politics-59989946\n",
            "/news/uk-59991749\n",
            "/news/world-europe-59992531\n",
            "/news/uk-59991749\n",
            "/news/world-europe-59992531\n",
            "/news/entertainment-arts-59986543\n",
            "/news/world-europe-59992918\n",
            "/news/world-europe-59988414\n",
            "/news/uk-59989886\n",
            "/news/world-australia-59994276\n",
            "/news/world-us-canada-59989496\n",
            "/news/uk-50446997\n",
            "/news/uk-50448669\n",
            "/news/health-59895258\n",
            "/news/uk-59879470\n",
            "/news/uk-59761346\n",
            "/news/world-australia-59991762\n",
            "/news/world-us-canada-59990200\n",
            "/news/world-africa-59972545\n",
            "/news/world-europe-59988414\n",
            "/news/world-us-canada-59960949\n",
            "/news/world-us-canada-59989476\n",
            "/news/world-us-canada-59979408\n",
            "/news/uk-politics-59989946\n",
            "/news/entertainment-arts-59986543\n",
            "/news/world-europe-59992531\n",
            "/news/science-environment-56837908\n",
            "/news/av/10462520\n",
            "/news/business-45489065\n",
            "/news/business-15521824\n",
            "/news/business-22434141\n",
            "/news/business-11428889\n",
            "/news/business-33712313\n"
          ]
        }
      ]
    },
    {
      "cell_type": "markdown",
      "source": [
        "**Fetching all of the articles from the homepage**"
      ],
      "metadata": {
        "id": "KYkb-zAju23i"
      }
    },
    {
      "cell_type": "markdown",
      "source": [
        "Now that we have the link to every article on the BBC News homepage, we can fetch the data for each one of these individual articles"
      ],
      "metadata": {
        "id": "g1g-J5lGxl38"
      }
    },
    {
      "cell_type": "code",
      "source": [
        "import requests\n",
        "import string\n",
        "from collections import Counter\n",
        "from bs4 import BeautifulSoup\n",
        "\n",
        "url = \"https://bbc.com/news\"\n",
        "response = requests.get(url)\n",
        "html = response.text\n",
        "soup = BeautifulSoup(html, \"html.parser\")\n",
        "links = soup.findAll(\"a\")\n",
        "\n",
        "news_urls = []\n",
        "for link in links:\n",
        "    href = link.get(\"href\")\n",
        "    if href.startswith(\"/news\") and href[-1].isdigit():\n",
        "        news_url = \"https://bbc.com\" + href\n",
        "        news_urls.append(news_url)\n",
        "\n",
        "\n",
        "all_nouns = []\n",
        "for url in news_urls[:10]:\n",
        "    print(\"Fetching {}\".format(url))\n",
        "    response = requests.get(url)\n",
        "    html = response.text\n",
        "    soup = BeautifulSoup(html, \"html.parser\")\n",
        "\n",
        "    words = soup.text.split()\n",
        "    nouns = [word for word in words if word.isalpha() and word[0] in string.ascii_uppercase]\n",
        "    all_nouns += nouns\n",
        "\n",
        "print(Counter(all_nouns).most_common(100))"
      ],
      "metadata": {
        "colab": {
          "base_uri": "https://localhost:8080/"
        },
        "id": "JmAYRurru9Jy",
        "outputId": "a3e3924f-f918-4f1a-a18e-7b4cc6e39611"
      },
      "execution_count": 8,
      "outputs": [
        {
          "output_type": "stream",
          "name": "stdout",
          "text": [
            "Fetching https://bbc.com/news/science-environment-56837908\n",
            "Fetching https://bbc.com/news/av/10462520\n",
            "Fetching https://bbc.com/news/science-environment-56837908\n",
            "Fetching https://bbc.com/news/av/10462520\n",
            "Fetching https://bbc.com/news/business-45489065\n",
            "Fetching https://bbc.com/news/business-15521824\n",
            "Fetching https://bbc.com/news/business-22434141\n",
            "Fetching https://bbc.com/news/business-11428889\n",
            "Fetching https://bbc.com/news/business-33712313\n",
            "Fetching https://bbc.com/news/uk-politics-59997364\n",
            "[('MMMM', 2667), ('YYYY', 1512), ('D', 721), ('BBC', 568), ('Business', 342), ('LT', 245), ('A', 186), ('CEO', 166), ('News', 155), ('MMM', 133), ('Johnson', 125), ('World', 115), ('December', 105), ('No', 83), ('The', 73), ('November', 71), ('Covid', 68), ('Street', 58), ('New', 56), ('Dec', 56), ('Will', 55), ('PM', 52), ('January', 51), ('May', 51), ('Downing', 50), ('Nov', 50), ('Boris', 49), ('I', 48), ('Suzanne', 45), ('Debusmann', 44), ('August', 43), ('See', 42), ('Use', 42), ('South', 42), ('Dougal', 41), ('October', 38), ('Ben', 37), ('Technology', 36), ('Please', 35), ('Timezone', 35), ('US', 35), ('Secrets', 35), ('Prince', 34), ('Jewish', 33), ('Chris', 33), ('Do', 32), ('Tech', 30), ('This', 29), ('Queen', 29), ('David', 28), ('D일', 28), ('International', 28), ('War', 28), ('Drax', 27), ('Christine', 27), ('Sarah', 27), ('Jeremy', 27), ('September', 26), ('April', 26), ('July', 26), ('IT', 25), ('Michael', 25), ('Car', 24), ('IndustryBusiness', 24), ('UK', 24), ('Australia', 23), ('Ken', 23), ('Padraig', 23), ('EconomyNew', 22), ('Dry', 22), ('Bernd', 22), ('Oct', 22), ('Event', 21), ('BBCSearch', 21), ('HomeYour', 21), ('Jan', 21), ('You', 21), ('MMMMын', 21), ('If', 21), ('Check', 20), ('Why', 20), ('England', 19), ('Christmas', 19), ('Green', 18), ('Huggins', 18), ('Martin', 18), ('Sooraj', 18), ('PicturesReality', 17), ('CheckWorld', 17), ('TVNewsbeatLong', 17), ('DataNew', 17), ('Party', 17), ('EU', 16), ('Environment', 16), ('Not', 16), ('Sell', 16), ('My', 16), ('Personalised', 16), ('Nazis', 16), ('Dan', 16)]\n"
          ]
        }
      ]
    },
    {
      "cell_type": "markdown",
      "source": [
        "- string a standard Python module that contains some useful word and letter shortcuts, we use it to  identify the capital letters \n",
        "-  Counter  is part of the built-in collections module. This find the most common nouns in a list, once we have built a list of all the nouns.\n",
        "- once we’ve downloaded all the pages, we print out the 100 most common nouns along with a count of how often they appeared using Python’s convenient Counter object"
      ],
      "metadata": {
        "id": "dXGVcOM4xxDK"
      }
    }
  ]
}